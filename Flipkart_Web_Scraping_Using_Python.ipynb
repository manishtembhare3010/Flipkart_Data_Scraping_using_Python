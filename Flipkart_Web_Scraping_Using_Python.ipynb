{
 "cells": [
  {
   "cell_type": "markdown",
   "id": "692218d6",
   "metadata": {},
   "source": [
    "# 1)Task : Scraping Cosmatics(Sunscreen) Data From Flipkart"
   ]
  },
  {
   "cell_type": "markdown",
   "id": "54928dd7",
   "metadata": {},
   "source": [
    "## import Required Libraries"
   ]
  },
  {
   "cell_type": "code",
   "execution_count": 303,
   "id": "9a1e5f46",
   "metadata": {},
   "outputs": [],
   "source": [
    "\n",
    "import pandas as pd\n",
    "import requests\n",
    "from bs4 import BeautifulSoup"
   ]
  },
  {
   "cell_type": "markdown",
   "id": "7f8ebb7f",
   "metadata": {},
   "source": [
    "## create connection with Flipkart.com to fetch data"
   ]
  },
  {
   "cell_type": "code",
   "execution_count": 250,
   "id": "e14b17b5",
   "metadata": {},
   "outputs": [],
   "source": [
    "url=\"https://www.flipkart.com/search?q=sunscreen&sid=g9b%2Cema%2C5la%2Cxrh&as=on&as-show=on&otracker=AS_QueryStore_OrganicAutoSuggest_2_9_na_na_na&otracker1=AS_QueryStore_OrganicAutoSuggest_2_9_na_na_na&as-pos=2&as-type=RECENT&suggestionId=sunscreen%7CSunscreen&requestId=68398985-bc74-41eb-aaf0-c7c5d5beba7b&as-backfill=on\"\n",
    "r=requests.get(url)\n",
    "soup=BeautifulSoup(r.text,\"lxml\")"
   ]
  },
  {
   "cell_type": "code",
   "execution_count": 251,
   "id": "0800f74a",
   "metadata": {},
   "outputs": [],
   "source": [
    "product_name=[]\n",
    "price=[]\n",
    "all_reviews=[]\n",
    "Discount=[]"
   ]
  },
  {
   "cell_type": "markdown",
   "id": "8313dd77",
   "metadata": {},
   "source": [
    "## extracting data and store in variables"
   ]
  },
  {
   "cell_type": "code",
   "execution_count": 252,
   "id": "c48ba2da",
   "metadata": {},
   "outputs": [],
   "source": [
    "names1=soup.find_all(\"a\",class_=\"s1Q9rs\")"
   ]
  },
  {
   "cell_type": "code",
   "execution_count": 253,
   "id": "e56ec639",
   "metadata": {},
   "outputs": [
    {
     "data": {
      "text/plain": [
       "['The Derma Co Sunscreen - SPF 50 PA++++ 1% Hyaluronic Su...',\n",
       " 'Minimalist Sunscreen - SPF 50 PA++++ Lightweight With N...',\n",
       " 'Lakmé Sunscreen - SPF 50 PA++ PA+++ 9 To 5 Sun Expert S...',\n",
       " 'Mamaearth Sunscreen - SPF 50 PA+++ Vitamin C Daily Glow...',\n",
       " 'LOTUS HERBALS Sunscreen - SPF 50+ PA++++ Lotus Safesun ...',\n",
       " 'Aqualogica Sunscreen - SPF 50+ PA++++ Radiance+ Dewy Su...',\n",
       " 'Dot & Key Sunscreen - SPF 50 PA+++ Watermelon Hyaluroni...',\n",
       " 'Aqualogica Sunscreen - SPF SPF 50 PA++++ Glow+ Dewy Sun...',\n",
       " \"Dr. Sheth's Sunscreen - SPF 50 PA+++ Sunscreen SPF 50 w...\",\n",
       " 'Aroma Magic Sunscreen - SPF 50 PA++ Sunblock Lotion 50 ...',\n",
       " 'The Derma Co Sunscreen - SPF 50 PA++++ 1% Hyaluronic Su...',\n",
       " 'Brinton Sunscreen - SPF 50 PA+++ UvDoux Face & Body Sun...',\n",
       " 'LOTUS HERBALS Sunscreen - SPF 50 PA+++ Safe Sun Invisib...',\n",
       " 'Lakmé Sunscreen - SPF 50 PA+++ Sun Expert Tinted Sunscr...',\n",
       " 'WishCare Sunscreen - SPF SPF50 PA+++ SPF50 Sunscreen Lo...',\n",
       " 'WishCare Sunscreen - SPF 50+ PA++++ Invisible Gel Sunsc...',\n",
       " 'Dot & Key Sunscreen - SPF 50 PA+++ Vitamin C+E Super Br...',\n",
       " 'Lakmé Sunscreen - SPF 50 PA+++ Sun Expert Ultra Matte L...',\n",
       " 'Aqualogica Sunscreen - SPF 50 PA++++ Detan+ Dewy Sunscr...',\n",
       " 'NEUTROGENA Sunscreen - SPF 50+ PA++++ Ultra Sheer Dry-T...',\n",
       " 'The Derma Co Sunscreen - SPF 50 PA++++ 1% Hyaluronic Su...',\n",
       " 'EIBHC Sunscreen - SPF 50 PA+++ Safe Sun Sunscreen Cream...',\n",
       " 'NEUTROGENA Sunscreen - SPF 50+ PA++++ Ultra Sheer Dry-T...',\n",
       " 'Fixderma Sunscreen - SPF 50+ PA+++ Shadow Sunscreen SPF...',\n",
       " 'Lakmé Sunscreen - SPF 50 PA+++ PA+++ Sun Expert Tint Hi...',\n",
       " 'Lotus Botanicals Sunscreen - SPF 50 PA+++ Vitamin C Mat...',\n",
       " 'Mamaearth Sunscreen - SPF 50 PA+++ Vitamin C Daily Glow...',\n",
       " 'Aroma Magic Sunscreen - SPF 30 PA++ Sunblock Lotion 100...',\n",
       " \"Re'equil Sunscreen - SPF 50 PA++++ Ultra Matte Dry Touc...\",\n",
       " \"Dr. Sheth's Sunscreen - SPF 50 PA+++ Haldi & Hyaluronic...\",\n",
       " 'Fixderma Sunscreen - SPF 50+ PA+++ Shadow Sunscreen SPF...',\n",
       " 'Brinton Sunscreen - SPF 50 PA+++ UV Doux Silicone Sunsc...',\n",
       " 'NEUTROGENA Sunscreen - SPF SPF 50+ PA++++ Ultra Sheer D...',\n",
       " 'Dot & Key Sunscreen - SPF 50 PA+++ Vitamin C + E Super ...',\n",
       " 'LOTUS HERBALS Sunscreen - SPF 30 PA++ Safe Sun Sunblock...',\n",
       " 'Fixderma Sunscreen - SPF 30+ PA+++ Shadow Sunscreen SPF...',\n",
       " 'Mamaearth Sunscreen - SPF 50 PA+++ Sunscreen Lotion For...',\n",
       " 'LOTUS HERBALS Sunscreen - SPF 40 PA+++ Safe Sun 3-in-1 ...',\n",
       " 'LOTUS HERBALS Sunscreen - SPF 50 PA+++ Safe Sun Invisib...',\n",
       " 'Dot & Key Sunscreen - SPF 50 PA++++ Blueberry Hydrate B...']"
      ]
     },
     "execution_count": 253,
     "metadata": {},
     "output_type": "execute_result"
    }
   ],
   "source": [
    "\n",
    "for i in names1:\n",
    "    alag=i.text\n",
    "    product_name.append(alag)\n",
    "product_name\n"
   ]
  },
  {
   "cell_type": "code",
   "execution_count": 254,
   "id": "3fdf3278",
   "metadata": {},
   "outputs": [
    {
     "data": {
      "text/plain": [
       "['₹269',\n",
       " '₹379',\n",
       " '₹314',\n",
       " '₹403',\n",
       " '₹285',\n",
       " '₹350',\n",
       " '₹350',\n",
       " '₹394',\n",
       " '₹414',\n",
       " '₹173',\n",
       " '₹448',\n",
       " '₹7,770',\n",
       " '₹324',\n",
       " '₹329',\n",
       " '₹399',\n",
       " '₹399',\n",
       " '₹378',\n",
       " '₹227',\n",
       " '₹350',\n",
       " '₹269',\n",
       " '₹526',\n",
       " '₹149',\n",
       " '₹546',\n",
       " '₹315',\n",
       " '₹214',\n",
       " '₹225',\n",
       " '₹313',\n",
       " '₹315',\n",
       " '₹645',\n",
       " '₹424',\n",
       " '₹293',\n",
       " '₹633',\n",
       " '₹418',\n",
       " '₹667',\n",
       " '₹266',\n",
       " '₹198',\n",
       " '₹448',\n",
       " '₹227',\n",
       " '₹235',\n",
       " '₹378',\n",
       " '₹526',\n",
       " '₹329',\n",
       " '₹448',\n",
       " '₹315',\n",
       " '₹225']"
      ]
     },
     "execution_count": 254,
     "metadata": {},
     "output_type": "execute_result"
    }
   ],
   "source": [
    "price1=soup.find_all(\"div\",class_=\"_30jeq3\")\n",
    "\n",
    "for i in price1:\n",
    "    alag=i.text\n",
    "    price.append(alag)\n",
    "price\n"
   ]
  },
  {
   "cell_type": "code",
   "execution_count": 255,
   "id": "6adf2133",
   "metadata": {},
   "outputs": [],
   "source": [
    "reviews=soup.find_all(\"div\",class_=\"_3LWZlK\")\n"
   ]
  },
  {
   "cell_type": "code",
   "execution_count": 256,
   "id": "86912d4a",
   "metadata": {},
   "outputs": [
    {
     "data": {
      "text/plain": [
       "['4.1',\n",
       " '4.2',\n",
       " '4.3',\n",
       " '4.2',\n",
       " '4.1',\n",
       " '4.3',\n",
       " '4.1',\n",
       " '4.2',\n",
       " '4.2',\n",
       " '4.3',\n",
       " '4.3',\n",
       " '4.3',\n",
       " '4.3',\n",
       " '4.1',\n",
       " '4.2',\n",
       " '4.2',\n",
       " '4.2',\n",
       " '4.2',\n",
       " '4.4',\n",
       " '4.3',\n",
       " '4.3',\n",
       " '4.2',\n",
       " '4.2',\n",
       " '3.9',\n",
       " '4.2',\n",
       " '4.4',\n",
       " '4.2',\n",
       " '4.3',\n",
       " '4.4',\n",
       " '4.2',\n",
       " '4.1',\n",
       " '4.3',\n",
       " '4.2',\n",
       " '4.3',\n",
       " '4.2',\n",
       " '4.1',\n",
       " '4.5',\n",
       " '4.4',\n",
       " '5',\n",
       " '5',\n",
       " '4.3',\n",
       " '1',\n",
       " '4',\n",
       " '4.3',\n",
       " '1',\n",
       " '5',\n",
       " '4.3',\n",
       " '5',\n",
       " '5',\n",
       " '4.2',\n",
       " '5',\n",
       " '4']"
      ]
     },
     "execution_count": 256,
     "metadata": {},
     "output_type": "execute_result"
    }
   ],
   "source": [
    "for i in reviews:\n",
    "    dif=i.text\n",
    "    all_reviews.append(dif)\n",
    "all_reviews\n",
    "    "
   ]
  },
  {
   "cell_type": "code",
   "execution_count": 262,
   "id": "34017897",
   "metadata": {},
   "outputs": [],
   "source": [
    "off=soup.find_all(\"div\",class_=\"_3Ay6Sb\")\n"
   ]
  },
  {
   "cell_type": "code",
   "execution_count": 263,
   "id": "e18e9053",
   "metadata": {},
   "outputs": [
    {
     "data": {
      "text/plain": [
       "['10% off',\n",
       " '5% off',\n",
       " '42% off',\n",
       " '10% off',\n",
       " '40% off',\n",
       " '12% off',\n",
       " '21% off',\n",
       " '12% off',\n",
       " '17% off',\n",
       " '23% off',\n",
       " '10% off',\n",
       " '35% off',\n",
       " '45% off',\n",
       " '20% off',\n",
       " '20% off',\n",
       " '15% off',\n",
       " '30% off',\n",
       " '12% off',\n",
       " '10% off',\n",
       " '18% off',\n",
       " '85% off',\n",
       " '30% off',\n",
       " '10% off',\n",
       " '41% off',\n",
       " '65% off',\n",
       " '10% off',\n",
       " '23% off',\n",
       " '17% off',\n",
       " '15% off',\n",
       " '9% off',\n",
       " '15% off',\n",
       " '30% off',\n",
       " '25% off',\n",
       " '35% off',\n",
       " '10% off',\n",
       " '10% off',\n",
       " '30% off',\n",
       " '37% off',\n",
       " '15% off',\n",
       " '18% off',\n",
       " '45% off',\n",
       " '10% off',\n",
       " '10% off',\n",
       " '65% off']"
      ]
     },
     "execution_count": 263,
     "metadata": {},
     "output_type": "execute_result"
    }
   ],
   "source": [
    "for i in off:\n",
    "    dif2=i.text\n",
    "    Discount.append(dif2)\n",
    "Discount"
   ]
  },
  {
   "cell_type": "code",
   "execution_count": 288,
   "id": "9f18b3b3",
   "metadata": {},
   "outputs": [
    {
     "data": {
      "text/plain": [
       "40"
      ]
     },
     "execution_count": 288,
     "metadata": {},
     "output_type": "execute_result"
    }
   ],
   "source": [
    "all_reviews.pop()\n",
    "len(all_reviews)\n"
   ]
  },
  {
   "cell_type": "code",
   "execution_count": 292,
   "id": "fcee1d50",
   "metadata": {},
   "outputs": [
    {
     "data": {
      "text/plain": [
       "40"
      ]
     },
     "execution_count": 292,
     "metadata": {},
     "output_type": "execute_result"
    }
   ],
   "source": [
    "Discount.pop()\n",
    "len(Discount)\n"
   ]
  },
  {
   "cell_type": "code",
   "execution_count": 297,
   "id": "7628bec8",
   "metadata": {},
   "outputs": [
    {
     "data": {
      "text/plain": [
       "40"
      ]
     },
     "execution_count": 297,
     "metadata": {},
     "output_type": "execute_result"
    }
   ],
   "source": [
    "price.pop()\n",
    "len(price)\n"
   ]
  },
  {
   "cell_type": "code",
   "execution_count": 294,
   "id": "89e78852",
   "metadata": {},
   "outputs": [
    {
     "data": {
      "text/plain": [
       "40"
      ]
     },
     "execution_count": 294,
     "metadata": {},
     "output_type": "execute_result"
    }
   ],
   "source": [
    "len(product_name)\n"
   ]
  },
  {
   "cell_type": "markdown",
   "id": "1e54fbc2",
   "metadata": {},
   "source": [
    "## Adding Data Into DataFrame Using Pandas"
   ]
  },
  {
   "cell_type": "code",
   "execution_count": 298,
   "id": "6b1d0700",
   "metadata": {},
   "outputs": [],
   "source": [
    "df=pd.DataFrame({\"Product_Name\":product_name,\"Price\":price,\"Reviews\":all_reviews,\"Discount\":Discount})"
   ]
  },
  {
   "cell_type": "code",
   "execution_count": 299,
   "id": "ebca3725",
   "metadata": {},
   "outputs": [
    {
     "data": {
      "text/html": [
       "<div>\n",
       "<style scoped>\n",
       "    .dataframe tbody tr th:only-of-type {\n",
       "        vertical-align: middle;\n",
       "    }\n",
       "\n",
       "    .dataframe tbody tr th {\n",
       "        vertical-align: top;\n",
       "    }\n",
       "\n",
       "    .dataframe thead th {\n",
       "        text-align: right;\n",
       "    }\n",
       "</style>\n",
       "<table border=\"1\" class=\"dataframe\">\n",
       "  <thead>\n",
       "    <tr style=\"text-align: right;\">\n",
       "      <th></th>\n",
       "      <th>Product_Name</th>\n",
       "      <th>Price</th>\n",
       "      <th>Reviews</th>\n",
       "      <th>Discount</th>\n",
       "    </tr>\n",
       "  </thead>\n",
       "  <tbody>\n",
       "    <tr>\n",
       "      <th>0</th>\n",
       "      <td>The Derma Co Sunscreen - SPF 50 PA++++ 1% Hyal...</td>\n",
       "      <td>₹269</td>\n",
       "      <td>4.1</td>\n",
       "      <td>10% off</td>\n",
       "    </tr>\n",
       "    <tr>\n",
       "      <th>1</th>\n",
       "      <td>Minimalist Sunscreen - SPF 50 PA++++ Lightweig...</td>\n",
       "      <td>₹379</td>\n",
       "      <td>4.2</td>\n",
       "      <td>5% off</td>\n",
       "    </tr>\n",
       "    <tr>\n",
       "      <th>2</th>\n",
       "      <td>Lakmé Sunscreen - SPF 50 PA++ PA+++ 9 To 5 Sun...</td>\n",
       "      <td>₹314</td>\n",
       "      <td>4.3</td>\n",
       "      <td>42% off</td>\n",
       "    </tr>\n",
       "    <tr>\n",
       "      <th>3</th>\n",
       "      <td>Mamaearth Sunscreen - SPF 50 PA+++ Vitamin C D...</td>\n",
       "      <td>₹403</td>\n",
       "      <td>4.2</td>\n",
       "      <td>10% off</td>\n",
       "    </tr>\n",
       "    <tr>\n",
       "      <th>4</th>\n",
       "      <td>LOTUS HERBALS Sunscreen - SPF 50+ PA++++ Lotus...</td>\n",
       "      <td>₹285</td>\n",
       "      <td>4.1</td>\n",
       "      <td>40% off</td>\n",
       "    </tr>\n",
       "    <tr>\n",
       "      <th>5</th>\n",
       "      <td>Aqualogica Sunscreen - SPF 50+ PA++++ Radiance...</td>\n",
       "      <td>₹350</td>\n",
       "      <td>4.3</td>\n",
       "      <td>12% off</td>\n",
       "    </tr>\n",
       "    <tr>\n",
       "      <th>6</th>\n",
       "      <td>Dot &amp; Key Sunscreen - SPF 50 PA+++ Watermelon ...</td>\n",
       "      <td>₹350</td>\n",
       "      <td>4.1</td>\n",
       "      <td>21% off</td>\n",
       "    </tr>\n",
       "    <tr>\n",
       "      <th>7</th>\n",
       "      <td>Aqualogica Sunscreen - SPF SPF 50 PA++++ Glow+...</td>\n",
       "      <td>₹394</td>\n",
       "      <td>4.2</td>\n",
       "      <td>12% off</td>\n",
       "    </tr>\n",
       "    <tr>\n",
       "      <th>8</th>\n",
       "      <td>Dr. Sheth's Sunscreen - SPF 50 PA+++ Sunscreen...</td>\n",
       "      <td>₹414</td>\n",
       "      <td>4.2</td>\n",
       "      <td>17% off</td>\n",
       "    </tr>\n",
       "    <tr>\n",
       "      <th>9</th>\n",
       "      <td>Aroma Magic Sunscreen - SPF 50 PA++ Sunblock L...</td>\n",
       "      <td>₹173</td>\n",
       "      <td>4.3</td>\n",
       "      <td>23% off</td>\n",
       "    </tr>\n",
       "    <tr>\n",
       "      <th>10</th>\n",
       "      <td>The Derma Co Sunscreen - SPF 50 PA++++ 1% Hyal...</td>\n",
       "      <td>₹448</td>\n",
       "      <td>4.3</td>\n",
       "      <td>10% off</td>\n",
       "    </tr>\n",
       "    <tr>\n",
       "      <th>11</th>\n",
       "      <td>Brinton Sunscreen - SPF 50 PA+++ UvDoux Face &amp;...</td>\n",
       "      <td>₹7,770</td>\n",
       "      <td>4.3</td>\n",
       "      <td>35% off</td>\n",
       "    </tr>\n",
       "    <tr>\n",
       "      <th>12</th>\n",
       "      <td>LOTUS HERBALS Sunscreen - SPF 50 PA+++ Safe Su...</td>\n",
       "      <td>₹324</td>\n",
       "      <td>4.3</td>\n",
       "      <td>45% off</td>\n",
       "    </tr>\n",
       "    <tr>\n",
       "      <th>13</th>\n",
       "      <td>Lakmé Sunscreen - SPF 50 PA+++ Sun Expert Tint...</td>\n",
       "      <td>₹329</td>\n",
       "      <td>4.1</td>\n",
       "      <td>20% off</td>\n",
       "    </tr>\n",
       "    <tr>\n",
       "      <th>14</th>\n",
       "      <td>WishCare Sunscreen - SPF SPF50 PA+++ SPF50 Sun...</td>\n",
       "      <td>₹399</td>\n",
       "      <td>4.2</td>\n",
       "      <td>20% off</td>\n",
       "    </tr>\n",
       "    <tr>\n",
       "      <th>15</th>\n",
       "      <td>WishCare Sunscreen - SPF 50+ PA++++ Invisible ...</td>\n",
       "      <td>₹399</td>\n",
       "      <td>4.2</td>\n",
       "      <td>15% off</td>\n",
       "    </tr>\n",
       "    <tr>\n",
       "      <th>16</th>\n",
       "      <td>Dot &amp; Key Sunscreen - SPF 50 PA+++ Vitamin C+E...</td>\n",
       "      <td>₹378</td>\n",
       "      <td>4.2</td>\n",
       "      <td>30% off</td>\n",
       "    </tr>\n",
       "    <tr>\n",
       "      <th>17</th>\n",
       "      <td>Lakmé Sunscreen - SPF 50 PA+++ Sun Expert Ultr...</td>\n",
       "      <td>₹227</td>\n",
       "      <td>4.2</td>\n",
       "      <td>12% off</td>\n",
       "    </tr>\n",
       "    <tr>\n",
       "      <th>18</th>\n",
       "      <td>Aqualogica Sunscreen - SPF 50 PA++++ Detan+ De...</td>\n",
       "      <td>₹350</td>\n",
       "      <td>4.4</td>\n",
       "      <td>10% off</td>\n",
       "    </tr>\n",
       "    <tr>\n",
       "      <th>19</th>\n",
       "      <td>NEUTROGENA Sunscreen - SPF 50+ PA++++ Ultra Sh...</td>\n",
       "      <td>₹269</td>\n",
       "      <td>4.3</td>\n",
       "      <td>18% off</td>\n",
       "    </tr>\n",
       "    <tr>\n",
       "      <th>20</th>\n",
       "      <td>The Derma Co Sunscreen - SPF 50 PA++++ 1% Hyal...</td>\n",
       "      <td>₹526</td>\n",
       "      <td>4.3</td>\n",
       "      <td>85% off</td>\n",
       "    </tr>\n",
       "    <tr>\n",
       "      <th>21</th>\n",
       "      <td>EIBHC Sunscreen - SPF 50 PA+++ Safe Sun Sunscr...</td>\n",
       "      <td>₹149</td>\n",
       "      <td>4.2</td>\n",
       "      <td>30% off</td>\n",
       "    </tr>\n",
       "    <tr>\n",
       "      <th>22</th>\n",
       "      <td>NEUTROGENA Sunscreen - SPF 50+ PA++++ Ultra Sh...</td>\n",
       "      <td>₹546</td>\n",
       "      <td>4.2</td>\n",
       "      <td>10% off</td>\n",
       "    </tr>\n",
       "    <tr>\n",
       "      <th>23</th>\n",
       "      <td>Fixderma Sunscreen - SPF 50+ PA+++ Shadow Suns...</td>\n",
       "      <td>₹315</td>\n",
       "      <td>3.9</td>\n",
       "      <td>41% off</td>\n",
       "    </tr>\n",
       "    <tr>\n",
       "      <th>24</th>\n",
       "      <td>Lakmé Sunscreen - SPF 50 PA+++ PA+++ Sun Exper...</td>\n",
       "      <td>₹214</td>\n",
       "      <td>4.2</td>\n",
       "      <td>65% off</td>\n",
       "    </tr>\n",
       "    <tr>\n",
       "      <th>25</th>\n",
       "      <td>Lotus Botanicals Sunscreen - SPF 50 PA+++ Vita...</td>\n",
       "      <td>₹225</td>\n",
       "      <td>4.4</td>\n",
       "      <td>10% off</td>\n",
       "    </tr>\n",
       "    <tr>\n",
       "      <th>26</th>\n",
       "      <td>Mamaearth Sunscreen - SPF 50 PA+++ Vitamin C D...</td>\n",
       "      <td>₹313</td>\n",
       "      <td>4.2</td>\n",
       "      <td>23% off</td>\n",
       "    </tr>\n",
       "    <tr>\n",
       "      <th>27</th>\n",
       "      <td>Aroma Magic Sunscreen - SPF 30 PA++ Sunblock L...</td>\n",
       "      <td>₹315</td>\n",
       "      <td>4.3</td>\n",
       "      <td>17% off</td>\n",
       "    </tr>\n",
       "    <tr>\n",
       "      <th>28</th>\n",
       "      <td>Re'equil Sunscreen - SPF 50 PA++++ Ultra Matte...</td>\n",
       "      <td>₹645</td>\n",
       "      <td>4.4</td>\n",
       "      <td>15% off</td>\n",
       "    </tr>\n",
       "    <tr>\n",
       "      <th>29</th>\n",
       "      <td>Dr. Sheth's Sunscreen - SPF 50 PA+++ Haldi &amp; H...</td>\n",
       "      <td>₹424</td>\n",
       "      <td>4.2</td>\n",
       "      <td>9% off</td>\n",
       "    </tr>\n",
       "    <tr>\n",
       "      <th>30</th>\n",
       "      <td>Fixderma Sunscreen - SPF 50+ PA+++ Shadow Suns...</td>\n",
       "      <td>₹293</td>\n",
       "      <td>4.1</td>\n",
       "      <td>15% off</td>\n",
       "    </tr>\n",
       "    <tr>\n",
       "      <th>31</th>\n",
       "      <td>Brinton Sunscreen - SPF 50 PA+++ UV Doux Silic...</td>\n",
       "      <td>₹633</td>\n",
       "      <td>4.3</td>\n",
       "      <td>30% off</td>\n",
       "    </tr>\n",
       "    <tr>\n",
       "      <th>32</th>\n",
       "      <td>NEUTROGENA Sunscreen - SPF SPF 50+ PA++++ Ultr...</td>\n",
       "      <td>₹418</td>\n",
       "      <td>4.2</td>\n",
       "      <td>25% off</td>\n",
       "    </tr>\n",
       "    <tr>\n",
       "      <th>33</th>\n",
       "      <td>Dot &amp; Key Sunscreen - SPF 50 PA+++ Vitamin C +...</td>\n",
       "      <td>₹667</td>\n",
       "      <td>4.3</td>\n",
       "      <td>35% off</td>\n",
       "    </tr>\n",
       "    <tr>\n",
       "      <th>34</th>\n",
       "      <td>LOTUS HERBALS Sunscreen - SPF 30 PA++ Safe Sun...</td>\n",
       "      <td>₹266</td>\n",
       "      <td>4.2</td>\n",
       "      <td>10% off</td>\n",
       "    </tr>\n",
       "    <tr>\n",
       "      <th>35</th>\n",
       "      <td>Fixderma Sunscreen - SPF 30+ PA+++ Shadow Suns...</td>\n",
       "      <td>₹198</td>\n",
       "      <td>4.1</td>\n",
       "      <td>10% off</td>\n",
       "    </tr>\n",
       "    <tr>\n",
       "      <th>36</th>\n",
       "      <td>Mamaearth Sunscreen - SPF 50 PA+++ Sunscreen L...</td>\n",
       "      <td>₹448</td>\n",
       "      <td>4.5</td>\n",
       "      <td>30% off</td>\n",
       "    </tr>\n",
       "    <tr>\n",
       "      <th>37</th>\n",
       "      <td>LOTUS HERBALS Sunscreen - SPF 40 PA+++ Safe Su...</td>\n",
       "      <td>₹227</td>\n",
       "      <td>4.4</td>\n",
       "      <td>37% off</td>\n",
       "    </tr>\n",
       "    <tr>\n",
       "      <th>38</th>\n",
       "      <td>LOTUS HERBALS Sunscreen - SPF 50 PA+++ Safe Su...</td>\n",
       "      <td>₹235</td>\n",
       "      <td>5</td>\n",
       "      <td>15% off</td>\n",
       "    </tr>\n",
       "    <tr>\n",
       "      <th>39</th>\n",
       "      <td>Dot &amp; Key Sunscreen - SPF 50 PA++++ Blueberry ...</td>\n",
       "      <td>₹378</td>\n",
       "      <td>5</td>\n",
       "      <td>18% off</td>\n",
       "    </tr>\n",
       "  </tbody>\n",
       "</table>\n",
       "</div>"
      ],
      "text/plain": [
       "                                         Product_Name   Price Reviews Discount\n",
       "0   The Derma Co Sunscreen - SPF 50 PA++++ 1% Hyal...    ₹269     4.1  10% off\n",
       "1   Minimalist Sunscreen - SPF 50 PA++++ Lightweig...    ₹379     4.2   5% off\n",
       "2   Lakmé Sunscreen - SPF 50 PA++ PA+++ 9 To 5 Sun...    ₹314     4.3  42% off\n",
       "3   Mamaearth Sunscreen - SPF 50 PA+++ Vitamin C D...    ₹403     4.2  10% off\n",
       "4   LOTUS HERBALS Sunscreen - SPF 50+ PA++++ Lotus...    ₹285     4.1  40% off\n",
       "5   Aqualogica Sunscreen - SPF 50+ PA++++ Radiance...    ₹350     4.3  12% off\n",
       "6   Dot & Key Sunscreen - SPF 50 PA+++ Watermelon ...    ₹350     4.1  21% off\n",
       "7   Aqualogica Sunscreen - SPF SPF 50 PA++++ Glow+...    ₹394     4.2  12% off\n",
       "8   Dr. Sheth's Sunscreen - SPF 50 PA+++ Sunscreen...    ₹414     4.2  17% off\n",
       "9   Aroma Magic Sunscreen - SPF 50 PA++ Sunblock L...    ₹173     4.3  23% off\n",
       "10  The Derma Co Sunscreen - SPF 50 PA++++ 1% Hyal...    ₹448     4.3  10% off\n",
       "11  Brinton Sunscreen - SPF 50 PA+++ UvDoux Face &...  ₹7,770     4.3  35% off\n",
       "12  LOTUS HERBALS Sunscreen - SPF 50 PA+++ Safe Su...    ₹324     4.3  45% off\n",
       "13  Lakmé Sunscreen - SPF 50 PA+++ Sun Expert Tint...    ₹329     4.1  20% off\n",
       "14  WishCare Sunscreen - SPF SPF50 PA+++ SPF50 Sun...    ₹399     4.2  20% off\n",
       "15  WishCare Sunscreen - SPF 50+ PA++++ Invisible ...    ₹399     4.2  15% off\n",
       "16  Dot & Key Sunscreen - SPF 50 PA+++ Vitamin C+E...    ₹378     4.2  30% off\n",
       "17  Lakmé Sunscreen - SPF 50 PA+++ Sun Expert Ultr...    ₹227     4.2  12% off\n",
       "18  Aqualogica Sunscreen - SPF 50 PA++++ Detan+ De...    ₹350     4.4  10% off\n",
       "19  NEUTROGENA Sunscreen - SPF 50+ PA++++ Ultra Sh...    ₹269     4.3  18% off\n",
       "20  The Derma Co Sunscreen - SPF 50 PA++++ 1% Hyal...    ₹526     4.3  85% off\n",
       "21  EIBHC Sunscreen - SPF 50 PA+++ Safe Sun Sunscr...    ₹149     4.2  30% off\n",
       "22  NEUTROGENA Sunscreen - SPF 50+ PA++++ Ultra Sh...    ₹546     4.2  10% off\n",
       "23  Fixderma Sunscreen - SPF 50+ PA+++ Shadow Suns...    ₹315     3.9  41% off\n",
       "24  Lakmé Sunscreen - SPF 50 PA+++ PA+++ Sun Exper...    ₹214     4.2  65% off\n",
       "25  Lotus Botanicals Sunscreen - SPF 50 PA+++ Vita...    ₹225     4.4  10% off\n",
       "26  Mamaearth Sunscreen - SPF 50 PA+++ Vitamin C D...    ₹313     4.2  23% off\n",
       "27  Aroma Magic Sunscreen - SPF 30 PA++ Sunblock L...    ₹315     4.3  17% off\n",
       "28  Re'equil Sunscreen - SPF 50 PA++++ Ultra Matte...    ₹645     4.4  15% off\n",
       "29  Dr. Sheth's Sunscreen - SPF 50 PA+++ Haldi & H...    ₹424     4.2   9% off\n",
       "30  Fixderma Sunscreen - SPF 50+ PA+++ Shadow Suns...    ₹293     4.1  15% off\n",
       "31  Brinton Sunscreen - SPF 50 PA+++ UV Doux Silic...    ₹633     4.3  30% off\n",
       "32  NEUTROGENA Sunscreen - SPF SPF 50+ PA++++ Ultr...    ₹418     4.2  25% off\n",
       "33  Dot & Key Sunscreen - SPF 50 PA+++ Vitamin C +...    ₹667     4.3  35% off\n",
       "34  LOTUS HERBALS Sunscreen - SPF 30 PA++ Safe Sun...    ₹266     4.2  10% off\n",
       "35  Fixderma Sunscreen - SPF 30+ PA+++ Shadow Suns...    ₹198     4.1  10% off\n",
       "36  Mamaearth Sunscreen - SPF 50 PA+++ Sunscreen L...    ₹448     4.5  30% off\n",
       "37  LOTUS HERBALS Sunscreen - SPF 40 PA+++ Safe Su...    ₹227     4.4  37% off\n",
       "38  LOTUS HERBALS Sunscreen - SPF 50 PA+++ Safe Su...    ₹235       5  15% off\n",
       "39  Dot & Key Sunscreen - SPF 50 PA++++ Blueberry ...    ₹378       5  18% off"
      ]
     },
     "execution_count": 299,
     "metadata": {},
     "output_type": "execute_result"
    }
   ],
   "source": [
    "df"
   ]
  },
  {
   "cell_type": "markdown",
   "id": "5c8adbed",
   "metadata": {},
   "source": [
    "#  Finding Relation "
   ]
  },
  {
   "cell_type": "code",
   "execution_count": 300,
   "id": "945ba9d0",
   "metadata": {},
   "outputs": [
    {
     "data": {
      "text/plain": [
       "<Axes: >"
      ]
     },
     "execution_count": 300,
     "metadata": {},
     "output_type": "execute_result"
    },
    {
     "data": {
      "image/png": "[encoded data removed]",
      "text/plain": [
       "<Figure size 640x480 with 1 Axes>"
      ]
     },
     "metadata": {},
     "output_type": "display_data"
    }
   ],
   "source": [
    "sns.scatterplot(y=product_name[0:15],x=price[0:15])"
   ]
  }
 ],
 "metadata": {
  "kernelspec": {
   "display_name": "Python 3 (ipykernel)",
   "language": "python",
   "name": "python3"
  },
  "language_info": {
   "codemirror_mode": {
    "name": "ipython",
    "version": 3
   },
   "file_extension": ".py",
   "mimetype": "text/x-python",
   "name": "python",
   "nbconvert_exporter": "python",
   "pygments_lexer": "ipython3",
   "version": "3.10.9"
  }
 },
 "nbformat": 4,
 "nbformat_minor": 5
}
